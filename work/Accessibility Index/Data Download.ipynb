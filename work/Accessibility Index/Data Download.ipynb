{
 "cells": [
  {
   "cell_type": "code",
   "execution_count": 31,
   "id": "c01e67e9-4b38-4d6e-9e9d-f3b83472dcb1",
   "metadata": {},
   "outputs": [],
   "source": [
    "from os.path import exists\n",
    "import re\n",
    "import urllib.request\n",
    "import zipfile"
   ]
  },
  {
   "cell_type": "code",
   "execution_count": 18,
   "id": "335f0db6-1549-4231-a0bb-6cdaeff03e96",
   "metadata": {},
   "outputs": [],
   "source": [
    "def download(url, local_file):\n",
    "    if not exists(local_file):\n",
    "        print(\"Downloading {} to '{}'\".format(url, local_file))\n",
    "        urllib.request.urlretrieve(url, local_file)\n",
    "    else:\n",
    "        print(\"'{}' already exists\".format(local_file))"
   ]
  },
  {
   "cell_type": "code",
   "execution_count": 19,
   "id": "4c61e4dc-dbbd-4109-aaf5-4496db67214b",
   "metadata": {},
   "outputs": [
    {
     "name": "stdout",
     "output_type": "stream",
     "text": [
      "Downloading https://github.com/odileeds/OpenJourneyTime/blob/master/TravelTimesNorthEngland_MSOAtoMSOA_ToArriveBy_0830am_20191009.csv?raw=true to 'data/isochrone.csv'\n",
      "'data/NorthernIsochrones.zip' already exists\n"
     ]
    }
   ],
   "source": [
    "download('https://github.com/odileeds/OpenJourneyTime/blob/master/TravelTimesNorthEngland_MSOAtoMSOA_ToArriveBy_0830am_20191009.csv?raw=true', 'data/isochrone.csv')\n",
    "download('https://www.imactivate.com/northernisochrones/NorthernIsochrones.zip', 'data/NorthernIsochrones.zip')"
   ]
  },
  {
   "cell_type": "code",
   "execution_count": 39,
   "id": "d5ae5da8-7379-417a-afde-413f453bb8a0",
   "metadata": {},
   "outputs": [],
   "source": [
    "with zipfile.ZipFile('data/NorthernIsochrones.zip') as zf:\n",
    "    pattern = re.compile(\".*CAR.*15minutes.geojson\")\n",
    "    members = [m for m in zf.namelist() if pattern.match(m)]\n",
    "    zf.extractall(path='data', members=members)"
   ]
  },
  {
   "cell_type": "code",
   "execution_count": null,
   "id": "e94821b7-0c4e-4003-9103-db1352c78ace",
   "metadata": {},
   "outputs": [],
   "source": []
  }
 ],
 "metadata": {
  "kernelspec": {
   "display_name": "Python 3 (ipykernel)",
   "language": "python",
   "name": "python3"
  },
  "language_info": {
   "codemirror_mode": {
    "name": "ipython",
    "version": 3
   },
   "file_extension": ".py",
   "mimetype": "text/x-python",
   "name": "python",
   "nbconvert_exporter": "python",
   "pygments_lexer": "ipython3",
   "version": "3.9.7"
  }
 },
 "nbformat": 4,
 "nbformat_minor": 5
}
