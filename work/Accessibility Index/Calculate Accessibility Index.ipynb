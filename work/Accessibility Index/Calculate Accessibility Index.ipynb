{
 "cells": [
  {
   "cell_type": "code",
   "execution_count": 336,
   "id": "8e912b07-b3e5-4f8d-b4a0-8567d914e6a9",
   "metadata": {},
   "outputs": [
    {
     "name": "stdout",
     "output_type": "stream",
     "text": [
      "Requirement already satisfied: shapely in /opt/conda/lib/python3.9/site-packages (1.8.1.post1)\n",
      "Requirement already satisfied: pyproj in /opt/conda/lib/python3.9/site-packages (3.3.0)\n",
      "Requirement already satisfied: pandas in /opt/conda/lib/python3.9/site-packages (1.4.0)\n",
      "Collecting progress_tracker\n",
      "  Downloading progress_tracker-1.0.0-py3-none-any.whl (8.7 kB)\n",
      "Requirement already satisfied: certifi in /opt/conda/lib/python3.9/site-packages (from pyproj) (2021.10.8)\n",
      "Requirement already satisfied: numpy>=1.18.5 in /opt/conda/lib/python3.9/site-packages (from pandas) (1.22.2)\n",
      "Requirement already satisfied: pytz>=2020.1 in /opt/conda/lib/python3.9/site-packages (from pandas) (2021.3)\n",
      "Requirement already satisfied: python-dateutil>=2.8.1 in /opt/conda/lib/python3.9/site-packages (from pandas) (2.8.2)\n",
      "Requirement already satisfied: six>=1.5 in /opt/conda/lib/python3.9/site-packages (from python-dateutil>=2.8.1->pandas) (1.16.0)\n",
      "Installing collected packages: progress-tracker\n",
      "Successfully installed progress-tracker-1.0.0\n"
     ]
    }
   ],
   "source": [
    "!pip install shapely pyproj pandas progress_tracker"
   ]
  },
  {
   "cell_type": "code",
   "execution_count": 338,
   "id": "1b5c74f8-6c8e-43e7-b9bd-f63f2cd26714",
   "metadata": {},
   "outputs": [],
   "source": [
    "import os\n",
    "import re\n",
    "import json\n",
    "from functools import partial\n",
    "\n",
    "from shapely.geometry import Polygon\n",
    "from shapely.ops import transform\n",
    "import pyproj\n",
    "from pyproj import CRS\n",
    "import pandas as pd\n",
    "from progress_tracker import track_progress"
   ]
  },
  {
   "cell_type": "markdown",
   "id": "fea0a1fe-3684-49a5-883f-cd60cdeb0ecf",
   "metadata": {},
   "source": [
    "## Projection\n",
    "\n",
    "The GeoJSON files have coordinates expressed in the WGS84 standard. This means that area would be calculated in degrees squared, which is not that useful for our purposes (or is it?).\n",
    "\n",
    "We need to set up a conversion from WGS84 (EPSG:4326) to OSGB36 (EPSG:27700) for later use."
   ]
  },
  {
   "cell_type": "code",
   "execution_count": 186,
   "id": "e27581d7-710d-490f-9f36-70d09ecbfcc4",
   "metadata": {},
   "outputs": [],
   "source": [
    "proj_from = CRS.from_epsg(4326) # EPSG 4326 is WGS84\n",
    "proj_to = CRS.from_epsg(27700)  # EPSG 27700 is OSGB\n",
    "proj = partial(pyproj.transform, proj_from, proj_to)"
   ]
  },
  {
   "cell_type": "code",
   "execution_count": 346,
   "id": "630aa163-e864-43ab-b51b-bc3b17a7b6dc",
   "metadata": {},
   "outputs": [],
   "source": [
    "data_dir = 'data/NorthernIsochrones'\n",
    "files = [f for f in os.listdir(data_dir) if re.match('.*CAR.*15minutes\\.geojson', f)]"
   ]
  },
  {
   "cell_type": "code",
   "execution_count": 369,
   "id": "29a8a2ad-00a0-40b0-8353-a9ec331b98d0",
   "metadata": {},
   "outputs": [
    {
     "name": "stdout",
     "output_type": "stream",
     "text": [
      "25/1943 (1.2866700977869274%) in 0:00:07.484443 (Time left: 0:09:34.206467)\n",
      "50/1943 (2.573340195573855%) in 0:00:18.686168 (Time left: 0:11:47.458320)\n",
      "75/1943 (3.860010293360782%) in 0:00:28.013428 (Time left: 0:11:37.721113)\n",
      "100/1943 (5.14668039114771%) in 0:00:31.749641 (Time left: 0:09:45.145884)\n",
      "125/1943 (6.433350488934638%) in 0:00:43.345159 (Time left: 0:10:30.411992)\n",
      "150/1943 (7.720020586721564%) in 0:00:51.701628 (Time left: 0:10:18.006793)\n",
      "175/1943 (9.006690684508492%) in 0:01:04.083652 (Time left: 0:10:47.427981)\n",
      "200/1943 (10.29336078229542%) in 0:01:13.457056 (Time left: 0:10:40.178243)\n",
      "225/1943 (11.580030880082347%) in 0:01:20.949301 (Time left: 0:10:18.092885)\n",
      "250/1943 (12.866700977869275%) in 0:01:30.428815 (Time left: 0:10:12.383935)\n",
      "275/1943 (14.153371075656201%) in 0:01:39.880540 (Time left: 0:10:05.820875)\n",
      "300/1943 (15.440041173443127%) in 0:01:52.720323 (Time left: 0:10:17.331636)\n",
      "325/1943 (16.72671127123006%) in 0:02:01.907452 (Time left: 0:10:06.911561)\n",
      "350/1943 (18.013381369016983%) in 0:02:25.187825 (Time left: 0:11:00.812015)\n",
      "375/1943 (19.30005146680391%) in 0:02:38.148853 (Time left: 0:11:01.273071)\n",
      "400/1943 (20.58672156459084%) in 0:02:48.449577 (Time left: 0:10:49.794243)\n",
      "425/1943 (21.873391662377767%) in 0:03:12.455020 (Time left: 0:11:27.404048)\n",
      "450/1943 (23.160061760164695%) in 0:03:33.389068 (Time left: 0:11:47.977508)\n",
      "475/1943 (24.44673185795162%) in 0:03:49.979698 (Time left: 0:11:50.758309)\n",
      "500/1943 (25.73340195573855%) in 0:03:58.235518 (Time left: 0:11:27.547705)\n",
      "525/1943 (27.020072053525475%) in 0:04:14.190903 (Time left: 0:11:26.557525)\n",
      "550/1943 (28.306742151312402%) in 0:04:35.219907 (Time left: 0:11:37.056964)\n",
      "575/1943 (29.593412249099334%) in 0:04:52.044820 (Time left: 0:11:34.812720)\n",
      "600/1943 (30.880082346886255%) in 0:05:14.428346 (Time left: 0:11:43.795448)\n",
      "625/1943 (32.166752444673186%) in 0:05:39.230880 (Time left: 0:11:55.370080)\n",
      "650/1943 (33.45342254246012%) in 0:05:46.989857 (Time left: 0:11:30.242900)\n",
      "675/1943 (34.74009264024704%) in 0:05:54.302507 (Time left: 0:11:05.563821)\n",
      "700/1943 (36.026762738033966%) in 0:06:08.867624 (Time left: 0:10:55.003509)\n",
      "725/1943 (37.3134328358209%) in 0:06:29.725101 (Time left: 0:10:54.738170)\n",
      "750/1943 (38.60010293360782%) in 0:06:38.406158 (Time left: 0:10:33.731395)\n",
      "775/1943 (39.88677303139475%) in 0:06:46.426415 (Time left: 0:10:12.523939)\n",
      "800/1943 (41.17344312918168%) in 0:07:03.317884 (Time left: 0:10:04.815427)\n",
      "825/1943 (42.4601132269686%) in 0:07:27.101644 (Time left: 0:10:05.890470)\n",
      "850/1943 (43.74678332475553%) in 0:07:35.477033 (Time left: 0:09:45.689879)\n",
      "875/1943 (45.03345342254246%) in 0:07:42.325720 (Time left: 0:09:24.301565)\n",
      "900/1943 (46.32012352032939%) in 0:07:50.378719 (Time left: 0:09:05.116671)\n",
      "925/1943 (47.60679361811631%) in 0:08:00.460824 (Time left: 0:08:48.766615)\n",
      "950/1943 (48.89346371590324%) in 0:08:09.034031 (Time left: 0:08:31.169256)\n",
      "975/1943 (50.180133813690176%) in 0:08:28.570296 (Time left: 0:08:24.919022)\n",
      "1000/1943 (51.4668039114771%) in 0:08:39.140012 (Time left: 0:08:09.549031)\n",
      "1025/1943 (52.753474009264025%) in 0:08:43.323091 (Time left: 0:07:48.693266)\n",
      "1050/1943 (54.04014410705095%) in 0:08:52.430921 (Time left: 0:07:32.819821)\n",
      "1075/1943 (55.32681420483788%) in 0:09:04.196616 (Time left: 0:07:19.407128)\n",
      "1100/1943 (56.613484302624805%) in 0:09:19.216448 (Time left: 0:07:08.563151)\n",
      "1125/1943 (57.90015440041173%) in 0:09:34.750042 (Time left: 0:06:57.907142)\n",
      "1150/1943 (59.18682449819867%) in 0:09:49.493171 (Time left: 0:06:46.493987)\n",
      "1175/1943 (60.473494595985585%) in 0:10:05.408855 (Time left: 0:06:35.705532)\n",
      "1200/1943 (61.76016469377251%) in 0:10:27.432640 (Time left: 0:06:28.485376)\n",
      "1225/1943 (63.04683479155945%) in 0:10:46.991783 (Time left: 0:06:19.216408)\n",
      "1250/1943 (64.33350488934637%) in 0:11:08.825511 (Time left: 0:06:10.796863)\n",
      "1275/1943 (65.6201749871333%) in 0:11:18.371174 (Time left: 0:05:55.413290)\n",
      "1300/1943 (66.90684508492023%) in 0:11:23.633569 (Time left: 0:05:38.135681)\n",
      "1325/1943 (68.19351518270716%) in 0:11:42.847582 (Time left: 0:05:27.818721)\n",
      "1350/1943 (69.48018528049408%) in 0:12:01.042343 (Time left: 0:05:16.724525)\n",
      "1375/1943 (70.76685537828101%) in 0:12:24.207731 (Time left: 0:05:07.425448)\n",
      "1400/1943 (72.05352547606793%) in 0:12:49.760204 (Time left: 0:04:58.556993)\n",
      "1425/1943 (73.34019557385486%) in 0:13:08.208748 (Time left: 0:04:46.520794)\n",
      "1450/1943 (74.6268656716418%) in 0:13:39.350967 (Time left: 0:04:38.579329)\n",
      "1475/1943 (75.91353576942872%) in 0:14:00.705243 (Time left: 0:04:26.745799)\n",
      "1500/1943 (77.20020586721564%) in 0:14:26.900924 (Time left: 0:04:16.024740)\n",
      "1525/1943 (78.48687596500258%) in 0:15:10.358883 (Time left: 0:04:09.527877)\n",
      "1550/1943 (79.7735460627895%) in 0:15:50.822243 (Time left: 0:04:01.079446)\n",
      "1575/1943 (81.06021616057643%) in 0:16:51.975952 (Time left: 0:03:56.448984)\n",
      "1600/1943 (82.34688625836336%) in 0:17:19.647655 (Time left: 0:03:42.874466)\n",
      "1625/1943 (83.63355635615028%) in 0:17:41.248383 (Time left: 0:03:27.678145)\n",
      "1650/1943 (84.9202264539372%) in 0:18:13.844779 (Time left: 0:03:14.240315)\n",
      "1675/1943 (86.20689655172413%) in 0:18:35.863253 (Time left: 0:02:58.538120)\n",
      "1700/1943 (87.49356664951107%) in 0:18:55.958584 (Time left: 0:02:42.375256)\n",
      "1725/1943 (88.78023674729799%) in 0:19:14.768194 (Time left: 0:02:25.935922)\n",
      "1750/1943 (90.06690684508492%) in 0:19:28.879218 (Time left: 0:02:08.910679)\n",
      "1775/1943 (91.35357694287185%) in 0:19:54.134257 (Time left: 0:01:53.022285)\n",
      "1800/1943 (92.64024704065878%) in 0:20:19.900755 (Time left: 0:01:36.914338)\n",
      "1825/1943 (93.9269171384457%) in 0:20:48.101949 (Time left: 0:01:20.699195)\n",
      "1850/1943 (95.21358723623263%) in 0:21:24.359105 (Time left: 0:01:04.565079)\n",
      "1875/1943 (96.50025733401955%) in 0:22:08.958990 (Time left: 0:00:48.196913)\n",
      "1900/1943 (97.78692743180648%) in 0:22:39.082826 (Time left: 0:00:30.758190)\n",
      "1925/1943 (99.07359752959341%) in 0:22:52.965263 (Time left: 0:00:12.838117)\n"
     ]
    }
   ],
   "source": [
    "df = pd.DataFrame(data = { 'msoa': [], 'mode': [], 'time': [], 'area': [] })\n",
    "\n",
    "for filename in track_progress(files, every_n_records=25):\n",
    "    # print(\".\", end='')\n",
    "    _, _, mode, _, msoa, _, _, _, _, time, *rest = re.split('[\\._]', filename)\n",
    "\n",
    "    with open(os.path.join(data_dir, filename)) as file:\n",
    "        data = json.loads(file.read())\n",
    "\n",
    "    def make_polygon(c):\n",
    "        shell, *holes = c\n",
    "        return Polygon(shell, holes)\n",
    "\n",
    "    if data['type'] == 'Polygon':\n",
    "        isochrone = make_polygon(data['coordinates'])\n",
    "\n",
    "    elif data['type'] == 'MultiPolygon':\n",
    "        isochrone = MultiPolygon([make_polygon(c) for c in data['coordinates']])\n",
    "\n",
    "    area = transform(proj, isochrone).area\n",
    "    # area = isochrone.area\n",
    "\n",
    "    df.loc[len(df.index)] = [msoa, mode, time, area]"
   ]
  },
  {
   "cell_type": "code",
   "execution_count": 348,
   "id": "7562d751-4e7d-46d2-8597-f9125c1be8fb",
   "metadata": {},
   "outputs": [],
   "source": [
    "with open('accessibility_index.csv', 'w') as csv:\n",
    "    csv.write(df.sort_values(by=['msoa']).to_csv(index=False))"
   ]
  },
  {
   "cell_type": "code",
   "execution_count": 368,
   "id": "6daffb08-5a87-4270-b48e-81baae05ef9c",
   "metadata": {},
   "outputs": [
    {
     "data": {
      "text/plain": [
       "<AxesSubplot:ylabel='Density'>"
      ]
     },
     "execution_count": 368,
     "metadata": {},
     "output_type": "execute_result"
    },
    {
     "data": {
      "image/png": "[encoded data removed]",
      "text/plain": [
       "<Figure size 432x288 with 1 Axes>"
      ]
     },
     "metadata": {
      "needs_background": "light"
     },
     "output_type": "display_data"
    }
   ],
   "source": [
    "df.sort_values(by=['area'], ignore_index=True).plot.kde(y=['area'])"
   ]
  },
  {
   "cell_type": "code",
   "execution_count": 333,
   "id": "85288ab2-75d1-4dbf-bc1c-59c760a379fd",
   "metadata": {},
   "outputs": [
    {
     "data": {
      "text/html": [
       "<div>\n",
       "<style scoped>\n",
       "    .dataframe tbody tr th:only-of-type {\n",
       "        vertical-align: middle;\n",
       "    }\n",
       "\n",
       "    .dataframe tbody tr th {\n",
       "        vertical-align: top;\n",
       "    }\n",
       "\n",
       "    .dataframe thead th {\n",
       "        text-align: right;\n",
       "    }\n",
       "</style>\n",
       "<table border=\"1\" class=\"dataframe\">\n",
       "  <thead>\n",
       "    <tr style=\"text-align: right;\">\n",
       "      <th></th>\n",
       "      <th>msoa</th>\n",
       "      <th>mode</th>\n",
       "      <th>time</th>\n",
       "      <th>area_m2</th>\n",
       "      <th>area_deg2</th>\n",
       "    </tr>\n",
       "  </thead>\n",
       "  <tbody>\n",
       "    <tr>\n",
       "      <th>0</th>\n",
       "      <td>E02000984</td>\n",
       "      <td>CAR</td>\n",
       "      <td>15minutes</td>\n",
       "      <td>1.030560e+08</td>\n",
       "      <td>0.002646</td>\n",
       "    </tr>\n",
       "    <tr>\n",
       "      <th>1</th>\n",
       "      <td>E02000985</td>\n",
       "      <td>CAR</td>\n",
       "      <td>15minutes</td>\n",
       "      <td>1.081036e+08</td>\n",
       "      <td>0.002777</td>\n",
       "    </tr>\n",
       "    <tr>\n",
       "      <th>2</th>\n",
       "      <td>E02000986</td>\n",
       "      <td>CAR</td>\n",
       "      <td>15minutes</td>\n",
       "      <td>1.161788e+08</td>\n",
       "      <td>0.002985</td>\n",
       "    </tr>\n",
       "    <tr>\n",
       "      <th>3</th>\n",
       "      <td>E02000987</td>\n",
       "      <td>CAR</td>\n",
       "      <td>15minutes</td>\n",
       "      <td>2.047361e+08</td>\n",
       "      <td>0.005264</td>\n",
       "    </tr>\n",
       "    <tr>\n",
       "      <th>4</th>\n",
       "      <td>E02000988</td>\n",
       "      <td>CAR</td>\n",
       "      <td>15minutes</td>\n",
       "      <td>1.776587e+08</td>\n",
       "      <td>0.004568</td>\n",
       "    </tr>\n",
       "    <tr>\n",
       "      <th>...</th>\n",
       "      <td>...</td>\n",
       "      <td>...</td>\n",
       "      <td>...</td>\n",
       "      <td>...</td>\n",
       "      <td>...</td>\n",
       "    </tr>\n",
       "    <tr>\n",
       "      <th>95</th>\n",
       "      <td>E02001082</td>\n",
       "      <td>CAR</td>\n",
       "      <td>15minutes</td>\n",
       "      <td>1.316167e+08</td>\n",
       "      <td>0.003411</td>\n",
       "    </tr>\n",
       "    <tr>\n",
       "      <th>96</th>\n",
       "      <td>E02001083</td>\n",
       "      <td>CAR</td>\n",
       "      <td>15minutes</td>\n",
       "      <td>1.593627e+08</td>\n",
       "      <td>0.004132</td>\n",
       "    </tr>\n",
       "    <tr>\n",
       "      <th>97</th>\n",
       "      <td>E02001084</td>\n",
       "      <td>CAR</td>\n",
       "      <td>15minutes</td>\n",
       "      <td>1.386254e+08</td>\n",
       "      <td>0.003592</td>\n",
       "    </tr>\n",
       "    <tr>\n",
       "      <th>98</th>\n",
       "      <td>E02001085</td>\n",
       "      <td>CAR</td>\n",
       "      <td>15minutes</td>\n",
       "      <td>1.423728e+08</td>\n",
       "      <td>0.003690</td>\n",
       "    </tr>\n",
       "    <tr>\n",
       "      <th>99</th>\n",
       "      <td>E02001086</td>\n",
       "      <td>CAR</td>\n",
       "      <td>15minutes</td>\n",
       "      <td>1.780396e+08</td>\n",
       "      <td>0.004617</td>\n",
       "    </tr>\n",
       "  </tbody>\n",
       "</table>\n",
       "<p>100 rows × 5 columns</p>\n",
       "</div>"
      ],
      "text/plain": [
       "         msoa mode       time       area_m2  area_deg2\n",
       "0   E02000984  CAR  15minutes  1.030560e+08   0.002646\n",
       "1   E02000985  CAR  15minutes  1.081036e+08   0.002777\n",
       "2   E02000986  CAR  15minutes  1.161788e+08   0.002985\n",
       "3   E02000987  CAR  15minutes  2.047361e+08   0.005264\n",
       "4   E02000988  CAR  15minutes  1.776587e+08   0.004568\n",
       "..        ...  ...        ...           ...        ...\n",
       "95  E02001082  CAR  15minutes  1.316167e+08   0.003411\n",
       "96  E02001083  CAR  15minutes  1.593627e+08   0.004132\n",
       "97  E02001084  CAR  15minutes  1.386254e+08   0.003592\n",
       "98  E02001085  CAR  15minutes  1.423728e+08   0.003690\n",
       "99  E02001086  CAR  15minutes  1.780396e+08   0.004617\n",
       "\n",
       "[100 rows x 5 columns]"
      ]
     },
     "execution_count": 333,
     "metadata": {},
     "output_type": "execute_result"
    }
   ],
   "source": [
    "df"
   ]
  },
  {
   "cell_type": "code",
   "execution_count": null,
   "id": "63c8457b-9b8f-4ae2-ad01-ebd0ee2725ee",
   "metadata": {},
   "outputs": [],
   "source": []
  }
 ],
 "metadata": {
  "kernelspec": {
   "display_name": "Python 3 (ipykernel)",
   "language": "python",
   "name": "python3"
  },
  "language_info": {
   "codemirror_mode": {
    "name": "ipython",
    "version": 3
   },
   "file_extension": ".py",
   "mimetype": "text/x-python",
   "name": "python",
   "nbconvert_exporter": "python",
   "pygments_lexer": "ipython3",
   "version": "3.9.7"
  }
 },
 "nbformat": 4,
 "nbformat_minor": 5
}
