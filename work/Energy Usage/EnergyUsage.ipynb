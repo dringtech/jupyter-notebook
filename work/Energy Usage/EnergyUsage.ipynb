{
 "cells": [
  {
   "cell_type": "markdown",
   "id": "7da83da7-2e53-4cec-8de0-9d52d0a48717",
   "metadata": {},
   "source": [
    "Generate API KEY at the Octopus Energy [Developer Dashboard](https://octopus.energy/dashboard/developer/)."
   ]
  },
  {
   "cell_type": "code",
   "execution_count": null,
   "id": "5d448228-103b-4060-aa2c-ea8403245b89",
   "metadata": {},
   "outputs": [],
   "source": [
    "!pip install --quiet python-dotenv pandas octopus-energy\n",
    "try:\n",
    "    %load_ext dotenv\n",
    "finally:\n",
    "    %dotenv"
   ]
  },
  {
   "cell_type": "code",
   "execution_count": null,
   "id": "b729fe45-9442-4de1-b84f-2a9b6dd0393a",
   "metadata": {},
   "outputs": [],
   "source": [
    "import os\n",
    "import pandas as pd\n",
    "import octopus_energy as oe\n",
    "from datetime import datetime\n",
    "from base64 import b64encode"
   ]
  },
  {
   "cell_type": "code",
   "execution_count": null,
   "id": "9b8384f5-6e4d-4d57-8d3d-dccd93bb02fd",
   "metadata": {},
   "outputs": [],
   "source": [
    "async with oe.OctopusEnergyRestClient(os.environ[\"API_KEY\"]) as client:\n",
    "  consumption = await client.get_gas_consumption_v1(os.environ[\"GAS_MPRN\"],\n",
    "                                                    os.environ[\"GAS_SERIAL\"],\n",
    "                                                    page_size=25000,\n",
    "                                                    period_from=datetime.fromisoformat('2020-08-01'),\n",
    "                                                    group_by=oe.Aggregate.DAY\n",
    "                                                   )"
   ]
  },
  {
   "cell_type": "code",
   "execution_count": null,
   "id": "6065d5f0-1abf-4522-9f74-db52cffedb2b",
   "metadata": {},
   "outputs": [],
   "source": [
    "consumption"
   ]
  },
  {
   "cell_type": "code",
   "execution_count": null,
   "id": "01304fee-afeb-4cf2-a6cb-f1ea0248e531",
   "metadata": {},
   "outputs": [],
   "source": []
  }
 ],
 "metadata": {
  "kernelspec": {
   "display_name": "Python 3 (ipykernel)",
   "language": "python",
   "name": "python3"
  },
  "language_info": {
   "codemirror_mode": {
    "name": "ipython",
    "version": 3
   },
   "file_extension": ".py",
   "mimetype": "text/x-python",
   "name": "python",
   "nbconvert_exporter": "python",
   "pygments_lexer": "ipython3",
   "version": "3.9.7"
  }
 },
 "nbformat": 4,
 "nbformat_minor": 5
}
