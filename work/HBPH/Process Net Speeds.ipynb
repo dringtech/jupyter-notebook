{
 "cells": [
  {
   "cell_type": "code",
   "execution_count": null,
   "id": "831b7601",
   "metadata": {},
   "outputs": [],
   "source": [
    "!pip install pandas"
   ]
  },
  {
   "cell_type": "code",
   "execution_count": null,
   "id": "b9d49ad8",
   "metadata": {},
   "outputs": [],
   "source": [
    "import pandas as pd"
   ]
  },
  {
   "cell_type": "code",
   "execution_count": null,
   "id": "f5fa92ff",
   "metadata": {},
   "outputs": [],
   "source": [
    "data = pd.read_csv('ADSL_Status.csv', parse_dates=['timestamp'], usecols=[0,1])"
   ]
  },
  {
   "cell_type": "code",
   "execution_count": null,
   "id": "b052265d",
   "metadata": {},
   "outputs": [],
   "source": [
    "data.columns = ['timestamp', 'logmsg']"
   ]
  },
  {
   "cell_type": "code",
   "execution_count": null,
   "id": "f7de9e1c",
   "metadata": {},
   "outputs": [],
   "source": [
    "data['logmsg'].replace(r'(^.*?\\[|\\s+\\].*$)', '', regex=True) \\\n",
    "        .transform(lambda message: pd.Series(message.split(' ')))"
   ]
  },
  {
   "cell_type": "code",
   "execution_count": null,
   "id": "9084397b",
   "metadata": {},
   "outputs": [],
   "source": [
    "data['logmsg'][0]"
   ]
  },
  {
   "cell_type": "code",
   "execution_count": null,
   "id": "f82c665f",
   "metadata": {},
   "outputs": [],
   "source": []
  }
 ],
 "metadata": {
  "kernelspec": {
   "display_name": "Python 3 (ipykernel)",
   "language": "python",
   "name": "python3"
  },
  "language_info": {
   "codemirror_mode": {
    "name": "ipython",
    "version": 3
   },
   "file_extension": ".py",
   "mimetype": "text/x-python",
   "name": "python",
   "nbconvert_exporter": "python",
   "pygments_lexer": "ipython3",
   "version": "3.9.7"
  }
 },
 "nbformat": 4,
 "nbformat_minor": 5
}
