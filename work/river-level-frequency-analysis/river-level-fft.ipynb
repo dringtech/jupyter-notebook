{
 "cells": [
  {
   "cell_type": "code",
   "execution_count": null,
   "id": "07cfa6ce-9b16-42d7-ae5b-6577c6bb68d6",
   "metadata": {},
   "outputs": [],
   "source": [
    "!pip install numpy matplotlib seaborn"
   ]
  },
  {
   "cell_type": "code",
   "execution_count": null,
   "id": "49ea22b6-78bc-43d4-b86c-b8a8a9e2fcf7",
   "metadata": {},
   "outputs": [],
   "source": [
    "import csv\n",
    "import dateutil\n",
    "import matplotlib.pyplot as plt\n",
    "import numpy as np\n",
    "import seaborn as sns\n",
    "import shutil\n",
    "import urllib.request"
   ]
  },
  {
   "cell_type": "code",
   "execution_count": null,
   "id": "7cf2cbac-17fb-412f-abf2-f8ecf8322d0e",
   "metadata": {},
   "outputs": [],
   "source": [
    "sns.set_theme()\n",
    "%matplotlib inline"
   ]
  },
  {
   "cell_type": "markdown",
   "id": "80b9d2b3-8665-43e7-9108-72c59c0bf591",
   "metadata": {},
   "source": [
    "Download data from https://check-for-flooding.service.gov.uk/river-and-sea-levels?lng=-0.58408&lat=52.49929\n",
    "\n",
    "https://riverlevels.uk/hebden-water-hebden-royd-nutclough\n",
    "\n",
    "http://environment.data.gov.uk/flood-monitoring/id/stations/L1231/readings.csv?parameter=level&since=2010-01-01&_limit=10000&_sorted"
   ]
  },
  {
   "cell_type": "code",
   "execution_count": null,
   "id": "053611ee-6e95-449a-8ac8-18b78dd5ca83",
   "metadata": {},
   "outputs": [],
   "source": [
    "with urllib.request.urlopen('http://environment.data.gov.uk/flood-monitoring/id/stations/L1231/readings.csv?parameter=level&since=2010-01-01&_limit=10000&_sorted') as response:\n",
    "    raw_data = [r.decode('utf-8') for r in response.readlines()]\n",
    "    \n",
    "    with open('L1231.csv', 'w') as csv_file:\n",
    "        csv_file.write(raw_data[0])\n",
    "        csv_file.write(''.join(raw_data[:1:-1]))\n"
   ]
  },
  {
   "cell_type": "code",
   "execution_count": null,
   "id": "6274de3d-2583-46d2-81d1-57083d7c26c2",
   "metadata": {},
   "outputs": [],
   "source": [
    "# RIVER_DATA='Nutclough-height-data-20220201-1130.csv'\n",
    "# RIVER_DATA='readings.csv'\n",
    "RIVER_DATA='L1231.csv'"
   ]
  },
  {
   "cell_type": "code",
   "execution_count": null,
   "id": "9d2041d4-4f09-4457-a981-7cc23067f07c",
   "metadata": {},
   "outputs": [],
   "source": [
    "with open(RIVER_DATA, 'r') as f:\n",
    "    data = list(csv.reader(f, delimiter=\",\"))"
   ]
  },
  {
   "cell_type": "code",
   "execution_count": null,
   "id": "1b4c8fb0-883e-47c0-a795-fdd2cd46f5fb",
   "metadata": {},
   "outputs": [],
   "source": [
    "dates = [dateutil.parser.isoparse(r[0]) for r in data[1:]]\n",
    "levels = np.array([float(r[2]) for r in data[1:]])"
   ]
  },
  {
   "cell_type": "code",
   "execution_count": null,
   "id": "e96e6740-f1c7-46bf-bf22-b5c0fa8aa3d1",
   "metadata": {},
   "outputs": [],
   "source": [
    "plt.figure(figsize = (8, 6))\n",
    "plt.plot(dates, levels, 'r')     \n",
    "plt.xticks(rotation=30, ha='right')\n",
    "plt.xlabel('Date')\n",
    "plt.ylabel('Level')\n",
    "plt.show()"
   ]
  },
  {
   "cell_type": "code",
   "execution_count": null,
   "id": "009e2406-7079-4e7c-a8e2-88f1007e1217",
   "metadata": {},
   "outputs": [],
   "source": [
    "ts = 15 * 60 # Sampling is 15 minutes\n",
    "fs = 1.0 / ts"
   ]
  },
  {
   "cell_type": "code",
   "execution_count": null,
   "id": "f8d630db-a661-4c19-a979-d82cbd97fa8a",
   "metadata": {},
   "outputs": [],
   "source": [
    "fft_size=100\n",
    "overlap_fac=0.8\n",
    "hop_size = np.int32(np.floor(fft_size * (1-overlap_fac)))\n",
    "pad_end_size = fft_size          # the last segment can overlap the end of the data array by no more than one window size\n",
    "total_segments = np.int32(np.ceil(len(data) / np.float32(hop_size)))\n",
    "t_max = len(levels) / np.float32(fs)\n",
    "window = np.hanning(fft_size)  # our half cosine window\n",
    "inner_pad = np.zeros(fft_size) # the zeros which will be used to double each segment size"
   ]
  },
  {
   "cell_type": "code",
   "execution_count": null,
   "id": "491ab41f-c118-4c21-9170-fdff2f3ec3c4",
   "metadata": {},
   "outputs": [],
   "source": [
    "proc = np.concatenate((levels, np.zeros(pad_end_size)))              # the data to process\n",
    "result = np.empty((total_segments, fft_size), dtype=np.float32)      # space to hold the result\n",
    "for i in range(total_segments):                       # for each segment\n",
    "    current_hop = hop_size * i                        # figure out the current segment offset\n",
    "    segment = proc[current_hop:current_hop+fft_size]  # get the current segment\n",
    "    windowed = segment * window                       # multiply by the half cosine function\n",
    "    padded = np.append(windowed, inner_pad)           # add 0s to double the length of the data\n",
    "    spectrum = np.fft.fft(padded) / fft_size          # take the Fourier Transform and scale by the number of samples\n",
    "    autopower = np.abs(spectrum * np.conj(spectrum))  # find the autopower spectrum\n",
    "    result[i, :] = autopower[:fft_size]               # append to the results array\n",
    "\n",
    "result = 20*np.log10(result)          # scale to db\n",
    "result = np.clip(result, -150, 200)    # clip values"
   ]
  },
  {
   "cell_type": "code",
   "execution_count": null,
   "id": "f8f2465e-3864-4e9d-b2a3-e948896b6539",
   "metadata": {},
   "outputs": [],
   "source": [
    "plt.figure(figsize = (8, 6))\n",
    "plt.imshow(np.transpose(result), origin='lower', cmap='jet', interpolation='nearest', aspect='auto')\n",
    "plt.ylabel('Frequency Bin')\n",
    "plt.xlabel('Time')\n",
    "plt.xticks([])\n",
    "plt.show()"
   ]
  },
  {
   "cell_type": "code",
   "execution_count": null,
   "id": "1871f69a-e013-4728-ac0c-7029a6b25075",
   "metadata": {},
   "outputs": [],
   "source": [
    "t_max"
   ]
  },
  {
   "cell_type": "code",
   "execution_count": null,
   "id": "4da168c1-5472-4912-88b4-22391ccfab4b",
   "metadata": {},
   "outputs": [],
   "source": []
  }
 ],
 "metadata": {
  "kernelspec": {
   "display_name": "Python 3 (ipykernel)",
   "language": "python",
   "name": "python3"
  },
  "language_info": {
   "codemirror_mode": {
    "name": "ipython",
    "version": 3
   },
   "file_extension": ".py",
   "mimetype": "text/x-python",
   "name": "python",
   "nbconvert_exporter": "python",
   "pygments_lexer": "ipython3",
   "version": "3.9.7"
  }
 },
 "nbformat": 4,
 "nbformat_minor": 5
}
