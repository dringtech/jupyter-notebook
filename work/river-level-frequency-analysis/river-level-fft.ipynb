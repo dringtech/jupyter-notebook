{
 "cells": [
  {
   "cell_type": "code",
   "execution_count": null,
   "id": "07cfa6ce-9b16-42d7-ae5b-6577c6bb68d6",
   "metadata": {},
   "outputs": [],
   "source": [
    "!pip install --quiet --requirement requirements.txt"
   ]
  },
  {
   "cell_type": "code",
   "execution_count": null,
   "id": "49ea22b6-78bc-43d4-b86c-b8a8a9e2fcf7",
   "metadata": {
    "tags": []
   },
   "outputs": [],
   "source": [
    "import matplotlib.pyplot as plt\n",
    "import numpy as np\n",
    "import seaborn as sns\n",
    "import urllib.request\n",
    "\n",
    "from functions import read_levels_file, fft_analysis"
   ]
  },
  {
   "cell_type": "code",
   "execution_count": null,
   "id": "7cf2cbac-17fb-412f-abf2-f8ecf8322d0e",
   "metadata": {},
   "outputs": [],
   "source": [
    "sns.set_theme()\n",
    "%matplotlib inline"
   ]
  },
  {
   "cell_type": "markdown",
   "id": "80b9d2b3-8665-43e7-9108-72c59c0bf591",
   "metadata": {},
   "source": [
    "Download data from https://check-for-flooding.service.gov.uk/river-and-sea-levels?lng=-0.58408&lat=52.49929\n",
    "\n",
    "https://riverlevels.uk/hebden-water-hebden-royd-nutclough\n",
    "\n",
    "http://environment.data.gov.uk/flood-monitoring/id/stations/L1231/readings.csv?parameter=level&since=2010-01-01&_limit=10000&_sorted"
   ]
  },
  {
   "cell_type": "code",
   "execution_count": null,
   "id": "053611ee-6e95-449a-8ac8-18b78dd5ca83",
   "metadata": {},
   "outputs": [],
   "source": [
    "with urllib.request.urlopen('http://environment.data.gov.uk/flood-monitoring/id/stations/L1231/readings.csv?parameter=level&since=2010-01-01&_limit=10000&_sorted') as response:\n",
    "    raw_data = [r.decode('utf-8') for r in response.readlines()]\n",
    "    def reshape(row):\n",
    "        x = row.split(',')\n",
    "        return ','.join([x[0], x[2]])\n",
    "    with open('L1231.csv', 'w') as csv_file:\n",
    "        csv_file.write(reshape(raw_data[0]))\n",
    "        csv_file.write(''.join([reshape(x) for x in raw_data[:1:-1]]))"
   ]
  },
  {
   "cell_type": "code",
   "execution_count": null,
   "id": "6274de3d-2583-46d2-81d1-57083d7c26c2",
   "metadata": {},
   "outputs": [],
   "source": [
    "# RIVER_DATA='Nutclough-height-data-20220201-1130.csv'\n",
    "RIVER_DATA='Nutclough-height-data-20220203-1300.csv'\n",
    "# RIVER_DATA='readings-nutclough-2021-02-08.csv'\n",
    "RIVER_DATA='L1231.csv'\n",
    "# RIVER_DATA='Brearley-height-data.csv'"
   ]
  },
  {
   "cell_type": "code",
   "execution_count": null,
   "id": "3e500fa0-c38d-488b-8d57-8e13ae657c8d",
   "metadata": {},
   "outputs": [],
   "source": [
    "(dates, levels) = read_levels_file(RIVER_DATA)"
   ]
  },
  {
   "cell_type": "code",
   "execution_count": null,
   "id": "1743e5e1-d617-4325-8cd3-d6546b25c9e8",
   "metadata": {},
   "outputs": [],
   "source": [
    "ts = 15 * 60 # Sampling is 15 minutes\n",
    "fs = 1.0 / ts\n",
    "fft_size=50\n",
    "result = fft_analysis(levels, fs, fft_size)"
   ]
  },
  {
   "cell_type": "code",
   "execution_count": null,
   "id": "8c810bc9-28aa-44a4-aea2-3512d1ea7257",
   "metadata": {},
   "outputs": [],
   "source": [
    "plt.figure(figsize = (12, 6))\n",
    "plt.plot(dates, levels, 'r')     \n",
    "plt.xticks(rotation=30, ha='right')\n",
    "plt.xlabel('Date')\n",
    "plt.ylabel('Level')\n",
    "plt.savefig('output/levels.png')\n",
    "plt.show()"
   ]
  },
  {
   "cell_type": "code",
   "execution_count": null,
   "id": "f8f2465e-3864-4e9d-b2a3-e948896b6539",
   "metadata": {},
   "outputs": [],
   "source": [
    "plt.figure(figsize = (12, 6))\n",
    "plt.imshow(np.transpose(result), origin='lower', cmap='jet', interpolation='nearest', aspect='auto')\n",
    "plt.ylabel('Frequency (Hz)')\n",
    "plt.xlabel('Time')\n",
    "plt.xticks([])\n",
    "plt.ticklabel_format(scilimits=[1,-1])\n",
    "num_ticks = 5\n",
    "plt.yticks(np.arange(num_ticks) * fft_size/(num_ticks-1), [f\"{x:.1e}\" for x in np.arange(num_ticks) * fs/2/(num_ticks-1)])\n",
    "plt.savefig('output/fft.png')\n",
    "plt.show()"
   ]
  },
  {
   "cell_type": "code",
   "execution_count": null,
   "id": "0419cefb-9f5c-4c91-b2cc-22ffb0a0b7ce",
   "metadata": {},
   "outputs": [],
   "source": []
  }
 ],
 "metadata": {
  "kernelspec": {
   "display_name": "Python 3 (ipykernel)",
   "language": "python",
   "name": "python3"
  },
  "language_info": {
   "codemirror_mode": {
    "name": "ipython",
    "version": 3
   },
   "file_extension": ".py",
   "mimetype": "text/x-python",
   "name": "python",
   "nbconvert_exporter": "python",
   "pygments_lexer": "ipython3",
   "version": "3.9.7"
  }
 },
 "nbformat": 4,
 "nbformat_minor": 5
}
